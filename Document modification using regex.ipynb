{
 "cells": [
  {
   "cell_type": "code",
   "execution_count": 4,
   "metadata": {},
   "outputs": [
    {
     "name": "stdout",
     "output_type": "stream",
     "text": [
      "Collecting python-docx\n",
      "  Downloading https://files.pythonhosted.org/packages/e4/83/c66a1934ed5ed8ab1dbb9931f1779079f8bca0f6bbc5793c06c4b5e7d671/python-docx-0.8.10.tar.gz (5.5MB)\n",
      "Requirement already satisfied: lxml>=2.3.2 in c:\\users\\jd\\anaconda3\\lib\\site-packages (from python-docx) (4.3.4)\n",
      "Building wheels for collected packages: python-docx\n",
      "  Building wheel for python-docx (setup.py): started\n",
      "  Building wheel for python-docx (setup.py): finished with status 'done'\n",
      "  Stored in directory: C:\\Users\\JD\\AppData\\Local\\pip\\Cache\\wheels\\18\\0b\\a0\\1dd62ff812c857c9e487f27d80d53d2b40531bec1acecfa47b\n",
      "Successfully built python-docx\n",
      "Installing collected packages: python-docx\n",
      "Successfully installed python-docx-0.8.10\n"
     ]
    }
   ],
   "source": [
    "!pip install python-docx\n",
    "import re\n",
    "from docx import Document\n",
    "\n"
   ]
  },
  {
   "cell_type": "code",
   "execution_count": 5,
   "metadata": {},
   "outputs": [],
   "source": [
    "def docx_replace_regex(doc_obj, regex , replace):\n",
    "\n",
    "    for p in doc_obj.paragraphs:\n",
    "        if regex.search(p.text):\n",
    "            inline = p.runs\n",
    "            # Loop added to work with runs (strings with same style)\n",
    "            for i in range(len(inline)):\n",
    "                if regex.search(inline[i].text):\n",
    "                    text = regex.sub(replace, inline[i].text)\n",
    "                    inline[i].text = text"
   ]
  },
  {
   "cell_type": "code",
   "execution_count": 65,
   "metadata": {},
   "outputs": [],
   "source": [
    "regex1 = re.compile(r\"Refer.*\\d\")\n",
    "replace1 = r\"\"\n",
    "filename = \"D:\\\\D\\Course\\\\Surrogates\\\\Doc\\\\Week 4\\\\Verbatim\\\\lec199.docx\"\n",
    "doc = Document(filename)\n",
    "docx_replace_regex(doc, regex1 , replace1)\n",
    "doc.save('D:\\\\D\\Course\\\\Surrogates\\\\Doc\\\\Week 4\\\\Verbatim\\\\lec19.docx')"
   ]
  },
  {
   "cell_type": "code",
   "execution_count": 23,
   "metadata": {},
   "outputs": [],
   "source": []
  },
  {
   "cell_type": "code",
   "execution_count": 25,
   "metadata": {},
   "outputs": [
    {
     "data": {
      "text/plain": [
       "[<docx.text.paragraph.Paragraph at 0x31d02a79b0>,\n",
       " <docx.text.paragraph.Paragraph at 0x31d02a7978>,\n",
       " <docx.text.paragraph.Paragraph at 0x31d02a7a90>,\n",
       " <docx.text.paragraph.Paragraph at 0x31d02a7a58>,\n",
       " <docx.text.paragraph.Paragraph at 0x31d02a7b00>,\n",
       " <docx.text.paragraph.Paragraph at 0x31d02a7b38>,\n",
       " <docx.text.paragraph.Paragraph at 0x31d02a7ba8>,\n",
       " <docx.text.paragraph.Paragraph at 0x31d02a7c18>,\n",
       " <docx.text.paragraph.Paragraph at 0x31d02a7c88>,\n",
       " <docx.text.paragraph.Paragraph at 0x31d02a7cf8>,\n",
       " <docx.text.paragraph.Paragraph at 0x31d02a7d68>,\n",
       " <docx.text.paragraph.Paragraph at 0x31d02a7dd8>,\n",
       " <docx.text.paragraph.Paragraph at 0x31d02a7e10>,\n",
       " <docx.text.paragraph.Paragraph at 0x31d02a7eb8>,\n",
       " <docx.text.paragraph.Paragraph at 0x31d02a7f60>,\n",
       " <docx.text.paragraph.Paragraph at 0x31d02a7f98>,\n",
       " <docx.text.paragraph.Paragraph at 0x31d02a7fd0>,\n",
       " <docx.text.paragraph.Paragraph at 0x31d02cc048>,\n",
       " <docx.text.paragraph.Paragraph at 0x31d02cc080>,\n",
       " <docx.text.paragraph.Paragraph at 0x31d02cc0b8>,\n",
       " <docx.text.paragraph.Paragraph at 0x31d02cc0f0>,\n",
       " <docx.text.paragraph.Paragraph at 0x31d02cc128>,\n",
       " <docx.text.paragraph.Paragraph at 0x31d02cc160>,\n",
       " <docx.text.paragraph.Paragraph at 0x31d02cc198>,\n",
       " <docx.text.paragraph.Paragraph at 0x31d02cc1d0>,\n",
       " <docx.text.paragraph.Paragraph at 0x31d02cc208>,\n",
       " <docx.text.paragraph.Paragraph at 0x31d02cc240>,\n",
       " <docx.text.paragraph.Paragraph at 0x31d02cc278>,\n",
       " <docx.text.paragraph.Paragraph at 0x31d02cc2b0>,\n",
       " <docx.text.paragraph.Paragraph at 0x31d02cc2e8>,\n",
       " <docx.text.paragraph.Paragraph at 0x31d02cc320>,\n",
       " <docx.text.paragraph.Paragraph at 0x31d02cc358>,\n",
       " <docx.text.paragraph.Paragraph at 0x31d02cc390>,\n",
       " <docx.text.paragraph.Paragraph at 0x31d02cc3c8>,\n",
       " <docx.text.paragraph.Paragraph at 0x31d02cc400>,\n",
       " <docx.text.paragraph.Paragraph at 0x31d02cc438>,\n",
       " <docx.text.paragraph.Paragraph at 0x31d02cc470>,\n",
       " <docx.text.paragraph.Paragraph at 0x31d02cc4a8>,\n",
       " <docx.text.paragraph.Paragraph at 0x31d02cc4e0>,\n",
       " <docx.text.paragraph.Paragraph at 0x31d02cc518>,\n",
       " <docx.text.paragraph.Paragraph at 0x31d02cc550>]"
      ]
     },
     "execution_count": 25,
     "metadata": {},
     "output_type": "execute_result"
    }
   ],
   "source": []
  },
  {
   "cell_type": "code",
   "execution_count": null,
   "metadata": {},
   "outputs": [],
   "source": []
  }
 ],
 "metadata": {
  "kernelspec": {
   "display_name": "Python 3",
   "language": "python",
   "name": "python3"
  },
  "language_info": {
   "codemirror_mode": {
    "name": "ipython",
    "version": 3
   },
   "file_extension": ".py",
   "mimetype": "text/x-python",
   "name": "python",
   "nbconvert_exporter": "python",
   "pygments_lexer": "ipython3",
   "version": "3.7.1"
  }
 },
 "nbformat": 4,
 "nbformat_minor": 2
}
